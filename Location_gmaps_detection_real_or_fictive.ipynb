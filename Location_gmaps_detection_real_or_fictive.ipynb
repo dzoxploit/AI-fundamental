{
  "nbformat": 4,
  "nbformat_minor": 0,
  "metadata": {
    "colab": {
      "provenance": []
    },
    "kernelspec": {
      "name": "python3",
      "display_name": "Python 3"
    },
    "language_info": {
      "name": "python"
    }
  },
  "cells": [
    {
      "cell_type": "code",
      "execution_count": null,
      "metadata": {
        "colab": {
          "base_uri": "https://localhost:8080/"
        },
        "id": "JMgNQrtXTBVB",
        "outputId": "e5adf339-71f3-43f8-df08-0e46366f41d1"
      },
      "outputs": [
        {
          "output_type": "stream",
          "name": "stdout",
          "text": [
            "Requirement already satisfied: requests in /usr/local/lib/python3.10/dist-packages (2.32.3)\n",
            "Collecting googlemaps\n",
            "  Downloading googlemaps-4.10.0.tar.gz (33 kB)\n",
            "  Preparing metadata (setup.py) ... \u001b[?25l\u001b[?25hdone\n",
            "Requirement already satisfied: opencv-python in /usr/local/lib/python3.10/dist-packages (4.10.0.84)\n",
            "Requirement already satisfied: Pillow in /usr/local/lib/python3.10/dist-packages (10.4.0)\n",
            "Requirement already satisfied: textblob in /usr/local/lib/python3.10/dist-packages (0.17.1)\n",
            "Requirement already satisfied: scikit-learn in /usr/local/lib/python3.10/dist-packages (1.3.2)\n",
            "Requirement already satisfied: charset-normalizer<4,>=2 in /usr/local/lib/python3.10/dist-packages (from requests) (3.3.2)\n",
            "Requirement already satisfied: idna<4,>=2.5 in /usr/local/lib/python3.10/dist-packages (from requests) (3.10)\n",
            "Requirement already satisfied: urllib3<3,>=1.21.1 in /usr/local/lib/python3.10/dist-packages (from requests) (2.0.7)\n",
            "Requirement already satisfied: certifi>=2017.4.17 in /usr/local/lib/python3.10/dist-packages (from requests) (2024.8.30)\n",
            "Requirement already satisfied: numpy>=1.21.2 in /usr/local/lib/python3.10/dist-packages (from opencv-python) (1.26.4)\n",
            "Requirement already satisfied: nltk>=3.1 in /usr/local/lib/python3.10/dist-packages (from textblob) (3.8.1)\n",
            "Requirement already satisfied: scipy>=1.5.0 in /usr/local/lib/python3.10/dist-packages (from scikit-learn) (1.13.1)\n",
            "Requirement already satisfied: joblib>=1.1.1 in /usr/local/lib/python3.10/dist-packages (from scikit-learn) (1.4.2)\n",
            "Requirement already satisfied: threadpoolctl>=2.0.0 in /usr/local/lib/python3.10/dist-packages (from scikit-learn) (3.5.0)\n",
            "Requirement already satisfied: click in /usr/local/lib/python3.10/dist-packages (from nltk>=3.1->textblob) (8.1.7)\n",
            "Requirement already satisfied: regex>=2021.8.3 in /usr/local/lib/python3.10/dist-packages (from nltk>=3.1->textblob) (2024.9.11)\n",
            "Requirement already satisfied: tqdm in /usr/local/lib/python3.10/dist-packages (from nltk>=3.1->textblob) (4.66.5)\n",
            "Building wheels for collected packages: googlemaps\n",
            "  Building wheel for googlemaps (setup.py) ... \u001b[?25l\u001b[?25hdone\n",
            "  Created wheel for googlemaps: filename=googlemaps-4.10.0-py3-none-any.whl size=40716 sha256=c0b1611517d3333f43ece65b1de6afbbfa0d9cd550138430566fc30725f10d39\n",
            "  Stored in directory: /root/.cache/pip/wheels/17/f8/79/999d5d37118fd35d7219ef57933eb9d09886c4c4503a800f84\n",
            "Successfully built googlemaps\n",
            "Installing collected packages: googlemaps\n",
            "Successfully installed googlemaps-4.10.0\n"
          ]
        }
      ],
      "source": [
        "# Install necessary libraries\n",
        "!pip install requests googlemaps opencv-python Pillow textblob scikit-learn"
      ]
    },
    {
      "cell_type": "code",
      "source": [
        "\n",
        "# Import libraries\n",
        "import requests\n",
        "import json\n",
        "import googlemaps\n",
        "from textblob import TextBlob\n",
        "from sklearn.ensemble import RandomForestClassifier\n",
        "import cv2\n",
        "from PIL import Image\n",
        "import numpy as np\n",
        "import matplotlib.pyplot as plt\n"
      ],
      "metadata": {
        "id": "ofdWizFFUZxV"
      },
      "execution_count": null,
      "outputs": []
    },
    {
      "cell_type": "code",
      "source": [
        "\n",
        "# Google API Key - Make sure to replace with your own key\n",
        "API_KEY = 'YOUR_GOOGLE_MAPS_API_KEY'\n",
        "\n",
        "# Initialize Google Maps client\n",
        "gmaps = googlemaps.Client(key=API_KEY)\n",
        "\n",
        "# Function to extract shop data (reviews and images) from Google Maps API\n",
        "def get_shop_data(place_id):\n",
        "    # Get place details (reviews and photos)\n",
        "    place_details = gmaps.place(place_id=place_id)\n",
        "    reviews = place_details.get('result', {}).get('reviews', [])\n",
        "    photos = place_details.get('result', {}).get('photos', [])\n",
        "\n",
        "    return reviews, photos\n",
        "\n",
        "# Function to analyze reviews for authenticity\n",
        "def analyze_reviews(reviews):\n",
        "    sentiments = []\n",
        "    for review in reviews:\n",
        "        blob = TextBlob(review['text'])\n",
        "        sentiment = blob.sentiment.polarity\n",
        "        sentiments.append(sentiment)\n",
        "\n",
        "    # Average sentiment polarity\n",
        "    avg_sentiment = sum(sentiments) / len(sentiments) if sentiments else 0\n",
        "    return avg_sentiment\n",
        "\n",
        "# Function to fetch images from Google Place Photo API\n",
        "def fetch_image(photo_reference, max_width=400):\n",
        "    url = f\"https://maps.googleapis.com/maps/api/place/photo?maxwidth={max_width}&photoreference={photo_reference}&key={API_KEY}\"\n",
        "    response = requests.get(url)\n",
        "    img = Image.open(BytesIO(response.content))\n",
        "    return img\n",
        "\n",
        "# Function to analyze images (detect anomalies, such as blurry logos or manipulation)\n",
        "def analyze_image(image):\n",
        "    # Convert image to OpenCV format\n",
        "    image_cv = np.array(image)\n",
        "    gray = cv2.cvtColor(image_cv, cv2.COLOR_BGR2GRAY)\n",
        "\n",
        "    # Edge detection (simple example for anomaly detection)\n",
        "    edges = cv2.Canny(gray, threshold1=100, threshold2=200)\n",
        "\n",
        "    # Show edge detection result\n",
        "    plt.imshow(edges, cmap='gray')\n",
        "    plt.title(\"Edge Detection\")\n",
        "    plt.show()\n",
        "\n",
        "    # For simplicity, we'll assume no anomalies in this basic example\n",
        "    anomaly_detected = False\n",
        "    return anomaly_detected\n",
        "\n",
        "# Function to classify authenticity based on reviews and images\n",
        "def classify_shop(authenticity_score):\n",
        "    threshold = 0.5\n",
        "    return \"Authentic\" if authenticity_score >= threshold else \"Fictive\"\n",
        "\n",
        "# Main function to process a shop location and classify it\n",
        "def process_shop(place_id):\n",
        "    # Step 1: Get shop data\n",
        "    reviews, photos = get_shop_data(place_id)\n",
        "\n",
        "    # Step 2: Analyze reviews\n",
        "    avg_sentiment = analyze_reviews(reviews)\n",
        "    print(f\"Average Sentiment Polarity: {avg_sentiment}\")\n",
        "\n",
        "    # Step 3: Analyze images (for demo, we'll analyze the first image)\n",
        "    if photos:\n",
        "        photo_ref = photos[0]['photo_reference']\n",
        "        image = fetch_image(photo_ref)\n",
        "        anomaly_detected = analyze_image(image)\n",
        "    else:\n",
        "        anomaly_detected = False\n",
        "\n",
        "    # Step 4: Combine sentiment and anomaly detection (simple scoring system)\n",
        "    authenticity_score = avg_sentiment - (0.3 if anomaly_detected else 0)\n",
        "\n",
        "    # Step 5: Classify authenticity\n",
        "    result = classify_shop(authenticity_score)\n",
        "    print(f\"Shop Classification: {result}\")"
      ],
      "metadata": {
        "id": "6rTiLWcwVHgz"
      },
      "execution_count": null,
      "outputs": []
    },
    {
      "cell_type": "code",
      "source": [
        "# Example: Use a Google Maps place_id for a specific shop location\n",
        "place_id = 'ChIJa147K9HX3IAR-lwiGIQv9i4'  # Example Place ID for Google HQ\n",
        "process_shop(place_id)"
      ],
      "metadata": {
        "id": "IVSmwAs0Nn32"
      },
      "execution_count": null,
      "outputs": []
    }
  ]
}